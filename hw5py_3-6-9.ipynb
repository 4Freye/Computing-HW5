{
 "cells": [
  {
   "cell_type": "code",
   "execution_count": 48,
   "id": "b3569e98",
   "metadata": {},
   "outputs": [],
   "source": [
    "import pandas as pd\n",
    "import numpy as np\n",
    "%matplotlib inline\n",
    "\n",
    "# 3)\n",
    "# Imagine you have a dictionary with the attributes of a person\n",
    "# {'name': 'John', 'last_name': 'Doe', 'birth': 1987}\n",
    "# {'name': 'Janet', 'last_name': 'Bird', 'gender': 'female'}\n",
    "# create two functions that returns the age of the person\n",
    "# that handles both examples.\n",
    "# Name the first function \"retrieve_age_eafp\" and follow EAFP\n",
    "# Name the second function \"retrieve_age_lbyl\" and follow lbyl\n"
   ]
  },
  {
   "cell_type": "code",
   "execution_count": 2,
   "id": "a6c8dc7c",
   "metadata": {},
   "outputs": [],
   "source": [
    "def retrieve_age_eafp(dic):\n",
    "    try:\n",
    "        return dic['birth']\n",
    "    except KeyError:\n",
    "        print(\"The Dictionary doesn't have Birth key\")"
   ]
  },
  {
   "cell_type": "code",
   "execution_count": 3,
   "id": "e2d9c884",
   "metadata": {},
   "outputs": [],
   "source": [
    "def retrieve_age_lbyl(dic):\n",
    "    if 'birth' in dic:\n",
    "        return dic['birth']\n",
    "    else:\n",
    "        print(\"The Dictionary doesn't have Birth key\")"
   ]
  },
  {
   "cell_type": "code",
   "execution_count": 5,
   "id": "adb33c92",
   "metadata": {},
   "outputs": [
    {
     "data": {
      "text/plain": [
       "1987"
      ]
     },
     "execution_count": 5,
     "metadata": {},
     "output_type": "execute_result"
    }
   ],
   "source": [
    "dic = {'name': 'John', 'last_name': 'Doe', 'birth': 1987}\n",
    "age = retrieve_age_eafp(dic)\n",
    "age"
   ]
  },
  {
   "cell_type": "code",
   "execution_count": 6,
   "id": "7c8c037f",
   "metadata": {},
   "outputs": [
    {
     "data": {
      "text/plain": [
       "1987"
      ]
     },
     "execution_count": 6,
     "metadata": {},
     "output_type": "execute_result"
    }
   ],
   "source": [
    "age = retrieve_age_lbyl(dic)\n",
    "age"
   ]
  },
  {
   "cell_type": "code",
   "execution_count": 7,
   "id": "5a59e0fb",
   "metadata": {},
   "outputs": [
    {
     "data": {
      "text/plain": [
       "3"
      ]
     },
     "execution_count": 7,
     "metadata": {},
     "output_type": "execute_result"
    }
   ],
   "source": [
    "################################################\n",
    "##### Try to use map and reduce in the next 3 exercises\n",
    "# 6)\n",
    "# Create a function called \"count_simba\" that counts\n",
    "# the number of times that Simba appears in a list of\n",
    "# strings. Example: \n",
    "# [\"Simba and Nala are lions.\", \"I laugh in the face of danger.\",\n",
    "#  \"Hakuna matata\", \"Timon, Pumba and Simba are friends, but Simba could eat the other two.\"] \n",
    "from functools import reduce\n",
    "def count_simba(s):\n",
    "    return s.upper().count(\"SIMBA\")\n",
    "ex=[\"Simba and Nala are lions.\", \"I laugh in the face of danger.\", \"Hakuna matata\", \"Timon, Pumba and Simba are friends, but Simba could eat the other two.\"]\n",
    "result = reduce(lambda x,y:x+y,map(count_simba,ex))\n",
    "result"
   ]
  },
  {
   "cell_type": "code",
   "execution_count": 22,
   "id": "41ea2021",
   "metadata": {},
   "outputs": [],
   "source": [
    "# 9)\n",
    "# Consider a list that each element can be an integer or\n",
    "# a list that contains integers or more lists with integers\n",
    "# example: [[2], 4, 5, [1, [2], [3, 5, [7,8]], 10], 1]. \n",
    "# create a recursive function called \"sum_general_int_list\"\n",
    "# that takes as input this type of list \n",
    "# and returns the sum of all the integers within the lists\n",
    "# for instance for list_1=[[2], 3, [[1,2],5]] \n",
    "# the result should be 13"
   ]
  },
  {
   "cell_type": "code",
   "execution_count": 8,
   "id": "e275be48",
   "metadata": {},
   "outputs": [],
   "source": [
    "def sum_general_int_list(_list):\n",
    "    s=0\n",
    "    for x in _list: \n",
    "        if(isinstance(x,int)):\n",
    "            s+=x\n",
    "        elif(isinstance(x,list)):\n",
    "            s+=sum_general_int_list(x)\n",
    "    return s"
   ]
  },
  {
   "cell_type": "code",
   "execution_count": 9,
   "id": "5077a49a",
   "metadata": {},
   "outputs": [
    {
     "data": {
      "text/plain": [
       "13"
      ]
     },
     "execution_count": 9,
     "metadata": {},
     "output_type": "execute_result"
    }
   ],
   "source": [
    "list_1=[[2], 3, [[1,2],5]]\n",
    "result = sum_general_int_list(list_1)\n",
    "result"
   ]
  }
 ],
 "metadata": {
  "kernelspec": {
   "display_name": "Python 3",
   "language": "python",
   "name": "python3"
  },
  "language_info": {
   "codemirror_mode": {
    "name": "ipython",
    "version": 3
   },
   "file_extension": ".py",
   "mimetype": "text/x-python",
   "name": "python",
   "nbconvert_exporter": "python",
   "pygments_lexer": "ipython3",
   "version": "3.8.8"
  }
 },
 "nbformat": 4,
 "nbformat_minor": 5
}
