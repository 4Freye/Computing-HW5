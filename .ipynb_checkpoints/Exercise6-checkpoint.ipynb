{
 "cells": [
  {
   "cell_type": "code",
   "execution_count": 354,
   "id": "95e6b742",
   "metadata": {},
   "outputs": [],
   "source": [
    "import numpy as np\n",
    "import pandas as pd\n",
    "import matplotlib.pyplot as plt\n",
    "import seaborn as sns\n",
    "%matplotlib inline"
   ]
  },
  {
   "cell_type": "code",
   "execution_count": 355,
   "id": "c5bcfbb4",
   "metadata": {},
   "outputs": [],
   "source": [
    "# Load the data.\n",
    "file_name = 'sample_diabetes_mellitus_data - sample_diabetes_mellitus_data.csv'\n",
    "def read_csv(string):\n",
    "    return pd.read_csv(string)\n",
    "df = read_csv(file_name)"
   ]
  },
  {
   "cell_type": "code",
   "execution_count": 356,
   "id": "3a268deb",
   "metadata": {},
   "outputs": [],
   "source": [
    "#Remove those rows that contain NaN values in the columns: age, gender, ethnicity.\n",
    "def remove_nan(df):\n",
    "    subset = ['age', 'gender', 'ethnicity']\n",
    "    for i in subset:\n",
    "        df = df.dropna(subset=[i])\n",
    "    return df\n",
    "df = remove_nan(df)"
   ]
  },
  {
   "cell_type": "code",
   "execution_count": 357,
   "id": "f2f881a4",
   "metadata": {},
   "outputs": [],
   "source": [
    "#Fill NaN with the mean value of the column in the columns: height, weight.\n",
    "def fill_nan(df):\n",
    "    subset = ['height', 'weight']\n",
    "    for i in subset:\n",
    "        df[i] = df[i].fillna(df[i].mean())\n",
    "    return df\n",
    "df = fill_nan(df)"
   ]
  },
  {
   "cell_type": "code",
   "execution_count": 358,
   "id": "c2608009",
   "metadata": {},
   "outputs": [],
   "source": [
    "#Create a binary variable for gender M/F.\n",
    "def binary_gender(df):\n",
    "    df['gender'] = df['gender'].replace(['F'], 1)\n",
    "    df['gender'] = df['gender'].replace(['M'], 0)\n",
    "    df['female'] = df['gender']\n",
    "    df.drop(['gender'], axis=1)\n",
    "    return df\n",
    "df = binary_gender(df)"
   ]
  },
  {
   "cell_type": "code",
   "execution_count": 359,
   "id": "a5ac66a2",
   "metadata": {},
   "outputs": [],
   "source": [
    "#Generate dummies for ethnicity column (One hot encoding).\n",
    "def generate_dummies(df):\n",
    "    s='ethnicity'\n",
    "    df = pd.get_dummies(df, prefix = s)\n",
    "    return df\n",
    "df = generate_dummies(df)"
   ]
  },
  {
   "cell_type": "code",
   "execution_count": 360,
   "id": "181550fa",
   "metadata": {},
   "outputs": [],
   "source": [
    "# Split the data between train and test. (you can use train_test_split from sklearn or any otherway)\n",
    "def split(df):\n",
    "    from sklearn.model_selection import train_test_split\n",
    "    y = df.loc[:, ['diabetes_mellitus']]\n",
    "    X = df.loc[:, df.columns != 'diabetes_mellitus']\n",
    "    X_train, X_test, y_train, y_test = train_test_split(X, y,test_size=0.3, random_state=42)\n",
    "    return X_train, X_test, y_train, y_test\n",
    "X_train, X_test, y_train, y_test = split(df)"
   ]
  },
  {
   "cell_type": "code",
   "execution_count": 361,
   "id": "7163d19c",
   "metadata": {},
   "outputs": [],
   "source": [
    "#Train a model (for instance LogisticRegression or RandomForestClassifier from sklearn) in the \n",
    "#train data. Use as features the columns: ‘age’, ‘height’, ‘weight’, ‘aids’, ‘cirrhosis’, ‘hepatic_failure’,\n",
    "#‘immunosuppression’, ‘leukemia’, ‘lymphoma’, ‘solid_tumor_with_metastasis’. Use as target the\n",
    "#column: ‘diabetes_mellitus’"
   ]
  },
  {
   "cell_type": "code",
   "execution_count": 362,
   "id": "23bb87cf",
   "metadata": {},
   "outputs": [
    {
     "name": "stderr",
     "output_type": "stream",
     "text": [
      "C:\\Users\\ghias\\anaconda3\\lib\\site-packages\\sklearn\\utils\\validation.py:63: DataConversionWarning: A column-vector y was passed when a 1d array was expected. Please change the shape of y to (n_samples, ), for example using ravel().\n",
      "  return f(*args, **kwargs)\n"
     ]
    }
   ],
   "source": [
    "def train_model(X, y):\n",
    "    from sklearn.linear_model import LogisticRegression\n",
    "    X= X.loc[:,['age', 'height', 'weight', 'aids', 'cirrhosis', 'hepatic_failure', 'immunosuppression', 'leukemia', 'lymphoma', 'solid_tumor_with_metastasis']]\n",
    "    regressor = LogisticRegression()\n",
    "    regressor.fit(X, y)\n",
    "    return regressor\n",
    "regressor = train_model(X_train,y_train)"
   ]
  },
  {
   "cell_type": "code",
   "execution_count": 363,
   "id": "f1dc1e95",
   "metadata": {},
   "outputs": [],
   "source": [
    "#Predict the targets for both the train and test sets and add the prediction as a new column (use\n",
    "#predict_proba from the model to get the predicted probabilities) name the new column something like predictions.\n",
    "def predict(X,y,regressor):\n",
    "    X = X.loc[:,['age', 'height', 'weight', 'aids', 'cirrhosis', 'hepatic_failure', 'immunosuppression', 'leukemia', 'lymphoma', 'solid_tumor_with_metastasis']]\n",
    "    y_pred = regressor.predict(X)\n",
    "    y_pred_proba = regressor.predict_proba(X)\n",
    "    results = pd.DataFrame({'Actual': y['diabetes_mellitus'], 'Predicted': y_pred, \"Predicted_Proba_0\": y_pred_proba[:,0],\"Predicted_Proba_1\": y_pred_proba[:,1]})\n",
    "    return results\n",
    "results_train = predict(X_train, y_train, regressor)\n",
    "results_test = predict(X_test, y_test, regressor)"
   ]
  },
  {
   "cell_type": "code",
   "execution_count": 364,
   "id": "7c78b47c",
   "metadata": {},
   "outputs": [],
   "source": [
    "#Compute the train and test roc_auc metric using roc_auc_score from sklearn\n",
    "def roc_auc_metric(result):\n",
    "    from sklearn.metrics import roc_auc_score\n",
    "    return roc_auc_score(result['Actual'], result['Predicted_Proba_1'])\n",
    "roc_auc_score_train = roc_auc_metric(results_train)\n",
    "roc_auc_score_test = roc_auc_metric(results_test)"
   ]
  },
  {
   "cell_type": "code",
   "execution_count": 365,
   "id": "80ffe62f",
   "metadata": {},
   "outputs": [
    {
     "data": {
      "text/plain": [
       "0.6689398850455878"
      ]
     },
     "execution_count": 365,
     "metadata": {},
     "output_type": "execute_result"
    }
   ],
   "source": [
    "roc_auc_score_test"
   ]
  },
  {
   "cell_type": "code",
   "execution_count": 366,
   "id": "d05f1ae4",
   "metadata": {},
   "outputs": [
    {
     "data": {
      "text/plain": [
       "0.6703545314832863"
      ]
     },
     "execution_count": 366,
     "metadata": {},
     "output_type": "execute_result"
    }
   ],
   "source": [
    "roc_auc_score_train"
   ]
  },
  {
   "cell_type": "code",
   "execution_count": null,
   "id": "5bdf824e",
   "metadata": {},
   "outputs": [],
   "source": []
  }
 ],
 "metadata": {
  "kernelspec": {
   "display_name": "Python 3 (ipykernel)",
   "language": "python",
   "name": "python3"
  },
  "language_info": {
   "codemirror_mode": {
    "name": "ipython",
    "version": 3
   },
   "file_extension": ".py",
   "mimetype": "text/x-python",
   "name": "python",
   "nbconvert_exporter": "python",
   "pygments_lexer": "ipython3",
   "version": "3.10.6"
  }
 },
 "nbformat": 4,
 "nbformat_minor": 5
}
